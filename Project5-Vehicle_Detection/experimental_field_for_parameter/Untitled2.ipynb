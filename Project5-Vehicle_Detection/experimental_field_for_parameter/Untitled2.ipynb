{
 "cells": [
  {
   "cell_type": "code",
   "execution_count": 1,
   "metadata": {},
   "outputs": [],
   "source": [
    "import os\n",
    "import math\n",
    "import cv2\n",
    "import glob\n",
    "import zipfile\n",
    "import scipy\n",
    "import pickle\n",
    "import time\n",
    "import numpy as np\n",
    "import matplotlib.pyplot as plt\n",
    "from skimage.feature import hog\n",
    "from moviepy.editor import VideoFileClip\n",
    "from IPython.display import display, HTML\n",
    "from urllib.request import urlretrieve\n",
    "from sklearn.svm import SVC, LinearSVC\n",
    "from sklearn.preprocessing import StandardScaler\n",
    "from sklearn.model_selection import train_test_split\n",
    "from sklearn.externals import joblib\n",
    "\n",
    "%matplotlib inline\n"
   ]
  },
  {
   "cell_type": "code",
   "execution_count": 2,
   "metadata": {},
   "outputs": [],
   "source": [
    "def get_output_dir():\n",
    "    output_dir = './output_images'\n",
    "    \n",
    "    if not os.path.isdir(output_dir):\n",
    "        os.mkdir(output_dir)\n",
    "    \n",
    "    return output_dir\n",
    "\n",
    "def get_classifier_path():\n",
    "    return './classifier.pickle'\n",
    "\n",
    "def save_plt_img(fig_handle, fname):\n",
    "    plt.figure(fig_handle.number)\n",
    "    plt.savefig(os.path.join(get_output_dir(), fname + '.jpg'))\n",
    "    \n",
    "def save_cv_img(img, fname):\n",
    "    scipy.misc.imsave(os.path.join(get_output_dir(), fname + '.jpg'), img)\n",
    "    \n",
    "def read_img(fname):\n",
    "    return scipy.misc.imread(fname)\n",
    "\n",
    "def display_img(img, title):\n",
    "    if len(img.shape) == 2:\n",
    "        plt.imshow(img, cmap='gray')\n",
    "    else:\n",
    "        plt.imshow(img)\n",
    "    \n",
    "    plt.axis('off')\n",
    "    plt.title(title)\n",
    "    \n",
    "def use_debug():\n",
    "    return True\n"
   ]
  },
  {
   "cell_type": "code",
   "execution_count": 3,
   "metadata": {},
   "outputs": [],
   "source": [
    "vehicles_file = 'vehicles.zip'\n",
    "non_vehicles_file = 'non-vehicles.zip'\n",
    "download_url_base = 'https://s3.amazonaws.com/udacity-sdc/Vehicle_Tracking/'"
   ]
  },
  {
   "cell_type": "code",
   "execution_count": 4,
   "metadata": {},
   "outputs": [
    {
     "name": "stdout",
     "output_type": "stream",
     "text": [
      "Downloading vehicles.zip...\n",
      "File already in the filesystem!\n",
      "Downloading non-vehicles.zip...\n",
      "File already in the filesystem!\n"
     ]
    }
   ],
   "source": [
    "def download(url):\n",
    "    # Get file name\n",
    "    file = url.rsplit('/', 1)[-1]\n",
    "    \n",
    "    # Download\n",
    "    print('Downloading ' + file + '...')\n",
    "    if not os.path.isfile(file):\n",
    "        urlretrieve(url, file)\n",
    "        print('Download Finished')\n",
    "    else:\n",
    "        print('File already in the filesystem!')\n",
    "        \n",
    "download(url = download_url_base + vehicles_file)\n",
    "download(url = download_url_base + non_vehicles_file)"
   ]
  },
  {
   "cell_type": "code",
   "execution_count": 5,
   "metadata": {},
   "outputs": [
    {
     "name": "stdout",
     "output_type": "stream",
     "text": [
      "Unzipping vehicles.zip...\n",
      "Unzipping non-vehicles.zip...\n"
     ]
    }
   ],
   "source": [
    "def unzip(file):\n",
    "    if not os.path.isdir(os.path.splitext(file)[0]):        \n",
    "        print('Unzipping ' + file + '...')\n",
    "        with zipfile.ZipFile(file,\"r\") as zip_ref:\n",
    "            zip_ref.extractall()\n",
    "    else:\n",
    "        print('File ' + file + ' already unpacked!')\n",
    "\n",
    "unzip(vehicles_file)\n",
    "unzip(non_vehicles_file)\n"
   ]
  },
  {
   "cell_type": "code",
   "execution_count": 6,
   "metadata": {},
   "outputs": [
    {
     "name": "stdout",
     "output_type": "stream",
     "text": [
      "Loading datasets...\n",
      "Done...\n"
     ]
    }
   ],
   "source": [
    "def get_img_shape():\n",
    "    return (64, 64, 3)\n",
    "\n",
    "def get_vehicle_label():\n",
    "    return 1\n",
    "\n",
    "def get_non_vehicle_label():\n",
    "    return 0\n",
    "\n",
    "def load_dataset(class_base_folder, class_id):\n",
    "    # Get filenames recursively\n",
    "    f_names = glob.glob(class_base_folder + '/**/*.png')\n",
    "    \n",
    "    # Declare output arrays\n",
    "    n_img = len(f_names)\n",
    "    X = np.zeros((n_img,) + get_img_shape(), dtype = np.uint8)\n",
    "    y = np.zeros((n_img,), dtype = int)\n",
    "    \n",
    "    # Read images and store them in memory\n",
    "    for i in range(n_img):\n",
    "        # Note: the input image is PNG, therefore a float32 array between 0.0 and 1.0\n",
    "        X[i] = read_img(f_names[i])\n",
    "        y[i] = class_id\n",
    "        \n",
    "    return X, y\n",
    "\n",
    "print('Loading datasets...')\n",
    "Img_v, y_v = load_dataset('vehicles', get_vehicle_label())\n",
    "Img_nv, y_nv = load_dataset('non-vehicles', get_non_vehicle_label())\n",
    "print('Done...')\n"
   ]
  },
  {
   "cell_type": "code",
   "execution_count": 7,
   "metadata": {},
   "outputs": [
    {
     "name": "stdout",
     "output_type": "stream",
     "text": [
      "Vehicle training data:  (8792, 64, 64, 3) (8792,)\n",
      "Non-vehicle training data:  (8968, 64, 64, 3) (8968,)\n",
      "Combined dataset:  (17760, 64, 64, 3) (17760,)\n",
      "0 255\n"
     ]
    }
   ],
   "source": [
    "print('Vehicle training data: ', Img_v.shape, y_v.shape)\n",
    "print('Non-vehicle training data: ', Img_nv.shape, y_nv.shape)\n",
    "\n",
    "Img = np.concatenate((Img_v, Img_nv))\n",
    "y = np.concatenate((y_v, y_nv))\n",
    "\n",
    "print('Combined dataset: ', Img.shape, y.shape)\n",
    "print(np.amin(Img), np.amax(Img))"
   ]
  },
  {
   "cell_type": "code",
   "execution_count": 8,
   "metadata": {},
   "outputs": [
    {
     "data": {
      "image/png": "[encoded data removed]",
      "text/plain": [
       "<matplotlib.figure.Figure at 0x11e82dbe0>"
      ]
     },
     "metadata": {},
     "output_type": "display_data"
    }
   ],
   "source": [
    "h = plt.figure()\n",
    "plt.subplot(1,2,1);\n",
    "display_img(Img_v[0], 'Vehicle')\n",
    "plt.subplot(1,2,2);\n",
    "display_img(Img_nv[0], 'Non-vehicle')\n",
    "\n",
    "save_plt_img(fig_handle=h, fname='vehicle_non_vehicle')"
   ]
  },
  {
   "cell_type": "code",
   "execution_count": 9,
   "metadata": {},
   "outputs": [
    {
     "name": "stdout",
     "output_type": "stream",
     "text": [
      "Before data augmentation:  (17760, 64, 64, 3) (17760,)\n",
      "After data augmentation:  (17760, 64, 64, 3) (17760,)\n"
     ]
    }
   ],
   "source": [
    "def random_translation(img):\n",
    "    rows = img.shape[0]\n",
    "    cols = img.shape[1]\n",
    "    \n",
    "    delta_x_max = cols//2\n",
    "    delta_y_max = rows//2\n",
    "    \n",
    "    tr_x = np.random.uniform(-delta_x_max, delta_x_max)\n",
    "    tr_y = np.random.uniform(-delta_y_max, delta_y_max)\n",
    "\n",
    "    M = np.float32([[1,0,tr_x],[0,1,tr_y]])\n",
    "    img_out = cv2.warpAffine(img,M,(cols,rows))\n",
    "    \n",
    "    return img_out\n",
    "\n",
    "def augment_image(img):\n",
    "    return random_translation(img)\n",
    "    \n",
    "def augment_data(Img, y):\n",
    "    augmentation_factor = 2\n",
    "    \n",
    "    Img_extra = []\n",
    "    y_extra = []\n",
    "    \n",
    "    for i in range(len(y)):\n",
    "        for j in range(augmentation_factor):\n",
    "            Img_extra.append(augment_image(Img[i]))\n",
    "            y_extra.append(y[i])\n",
    "    \n",
    "    Img_extra = np.array(Img_extra)\n",
    "    y_extra = np.array(y_extra)\n",
    "    \n",
    "    Img = np.concatenate((Img, Img_extra))\n",
    "    y = np.concatenate((y, y_extra))\n",
    "    \n",
    "    return Img, y\n",
    "\n",
    "print('Before data augmentation: ', Img.shape, y.shape)\n",
    "#Img, y = augment_data(Img, y)\n",
    "print('After data augmentation: ', Img.shape, y.shape)"
   ]
  },
  {
   "cell_type": "code",
   "execution_count": 10,
   "metadata": {},
   "outputs": [],
   "source": [
    "def rgb_to_ycrcb(img):\n",
    "    return cv2.cvtColor(img, cv2.COLOR_RGB2YCrCb)\n",
    "\n",
    "def preprocess_img(Img):\n",
    "    Img_out = np.copy(Img)\n",
    "    \n",
    "    if len(Img.shape) == 3:\n",
    "        Img_out = rgb_to_ycrcb(Img)\n",
    "    else:\n",
    "        for i in range(Img.shape[0]):\n",
    "            Img_out[i] = cv2.cvtColor(Img[i], cv2.COLOR_RGB2YCrCb)\n",
    "    \n",
    "    return Img_out\n",
    "\n",
    "Img_v_pp = preprocess_img(Img_v)\n",
    "Img_nv_pp = preprocess_img(Img_nv)\n",
    "Img_pp = preprocess_img(Img)"
   ]
  },
  {
   "cell_type": "code",
   "execution_count": 11,
   "metadata": {},
   "outputs": [],
   "source": [
    "def get_pixels_per_cell():\n",
    "    return 8\n",
    "\n",
    "def get_hog_features(img, debug = False):\n",
    "    # Setup HOG parameters\n",
    "    pix_per_cell = get_pixels_per_cell()\n",
    "    cell_per_block = 2\n",
    "    orient = 9\n",
    "\n",
    "    img_shape = img.shape\n",
    "    n_channels = img_shape[2]\n",
    "    \n",
    "    features = []\n",
    "    hog_image = np.zeros_like(img)\n",
    "    \n",
    "    for i in range(n_channels):\n",
    "        if debug:\n",
    "            features_i, hog_image[:, :, i] = hog(img[:, :, i], orientations=orient, \n",
    "                                                 pixels_per_cell=(pix_per_cell, pix_per_cell),\n",
    "                                                 cells_per_block=(cell_per_block, cell_per_block),\n",
    "                                                 visualise=debug, feature_vector=False)\n",
    "        else:\n",
    "            features_i = hog(img[:, :, i], orientations=orient, \n",
    "                             pixels_per_cell=(pix_per_cell, pix_per_cell),\n",
    "                             cells_per_block=(cell_per_block, cell_per_block),\n",
    "                             visualise=debug, feature_vector=False)\n",
    "       \n",
    "        features.append(features_i)\n",
    "\n",
    "    features = np.stack(features, axis=-1)\n",
    "        \n",
    "    if debug:        \n",
    "        return features, hog_image\n",
    "    else:\n",
    "        return features"
   ]
  },
  {
   "cell_type": "code",
   "execution_count": 12,
   "metadata": {},
   "outputs": [
    {
     "name": "stdout",
     "output_type": "stream",
     "text": [
      "(7, 7, 2, 2, 9, 3) float64 (64, 64, 3) uint8\n"
     ]
    },
    {
     "data": {
      "image/png": "[encoded data removed]",
      "text/plain": [
       "<matplotlib.figure.Figure at 0x11ec00ef0>"
      ]
     },
     "metadata": {},
     "output_type": "display_data"
    },
    {
     "data": {
      "image/png": "[encoded data removed]",
      "text/plain": [
       "<matplotlib.figure.Figure at 0x11ee7b668>"
      ]
     },
     "metadata": {},
     "output_type": "display_data"
    }
   ],
   "source": [
    "def test_hog_features():\n",
    "    img_v = Img_v_pp[0]\n",
    "    img_nv = Img_nv_pp[0]\n",
    "\n",
    "    features_v, hog_image_v = get_hog_features(img_v, debug=True)\n",
    "    features_nv, hog_image_nv = get_hog_features(img_nv, debug=True)\n",
    "\n",
    "    print(features_v.shape, features_v.dtype, hog_image_v.shape, hog_image_v.dtype)\n",
    "\n",
    "    h = plt.figure()\n",
    "    img_labels = ['Y', 'Cr', 'Cb']\n",
    "\n",
    "    for idx in range(3):\n",
    "        plt.subplot(2,3, idx + 3 * 0 + 1);\n",
    "        display_img(img_v[:, :, idx], img_labels[idx])\n",
    "\n",
    "    for idx in range(3):\n",
    "        plt.subplot(2,3, idx + 3 * 1 + 1);\n",
    "        display_img(hog_image_v[:, :, idx], img_labels[idx] + '-hog')\n",
    "        \n",
    "    save_plt_img(fig_handle=h, fname='hog_img_vehicle')\n",
    "        \n",
    "    h = plt.figure()\n",
    "    for idx in range(3):\n",
    "        plt.subplot(2,3, idx + 3 * 0 + 1);\n",
    "        display_img(img_nv[:, :, idx], img_labels[idx])\n",
    "        \n",
    "    for idx in range(3):\n",
    "        plt.subplot(2,3, idx + 3 * 1 + 1);\n",
    "        display_img(hog_image_nv[:, :, idx], img_labels[idx] + '-hog')\n",
    "        \n",
    "    save_plt_img(fig_handle=h, fname='hog_img_non_vehicle')        \n",
    "\n",
    "test_hog_features()"
   ]
  },
  {
   "cell_type": "code",
   "execution_count": 13,
   "metadata": {},
   "outputs": [],
   "source": [
    "class SearchWindow:\n",
    "    \n",
    "    def __init__(self, x0, y0, size_x, size_y):\n",
    "        self.x0 = x0\n",
    "        self.y0 = y0\n",
    "        self.size_x = size_x\n",
    "        self.size_y = size_y  \n",
    "        \n",
    "    def get_img_contents(self, img):\n",
    "        return img[self.y0 : self.y0 + self.size_y, \n",
    "                   self.x0 : self.x0 + self.size_x]\n",
    "    \n",
    "    def resize(self, scale):\n",
    "        self.x0 = int(self.x0 / scale)\n",
    "        self.y0 = int(self.y0 / scale)\n",
    "        self.size_x = int(self.size_x / scale)\n",
    "        self.size_y = int(self.size_y / scale)\n",
    "    \n",
    "    def draw_on_img(self, img, color=(0,0,255), thickness=2):\n",
    "        p1 = (self.x0,               self.y0)\n",
    "        p2 = (self.x0,               self.y0 + self.size_y)\n",
    "        p3 = (self.x0 + self.size_x, self.y0 + self.size_y)\n",
    "        p4 = (self.x0 + self.size_x, self.y0)\n",
    "        \n",
    "        p = (p1, p2, p3, p4)\n",
    "        \n",
    "        for i in range(4):\n",
    "            cv2.line(img, p[i], p[(i+1) % 4], color=color, thickness=thickness)"
   ]
  },
  {
   "cell_type": "code",
   "execution_count": 14,
   "metadata": {},
   "outputs": [
    {
     "data": {
      "image/png": "[encoded data removed]",
      "text/plain": [
       "<matplotlib.figure.Figure at 0x11e87a390>"
      ]
     },
     "metadata": {},
     "output_type": "display_data"
    }
   ],
   "source": [
    "def test_get_img_contents():\n",
    "    img = read_img('./test_images/test1.jpg')\n",
    "    window = SearchWindow(840,400,100,100)\n",
    "    display_img(window.get_img_contents(img), 'Contents of search window')\n",
    "    \n",
    "def test_draw_on_img():\n",
    "    img = read_img('./test_images/test1.jpg')\n",
    "    window = SearchWindow(840,400,100,100)    \n",
    "    window.draw_on_img(img, color = (255,0,0), thickness=5)\n",
    "    display_img(img, 'Drawn bounding box')\n",
    "\n",
    "plt.figure();\n",
    "plt.subplot(1,2,1)\n",
    "test_draw_on_img()    \n",
    "plt.subplot(1,2,2)\n",
    "test_get_img_contents()\n"
   ]
  },
  {
   "cell_type": "code",
   "execution_count": 15,
   "metadata": {},
   "outputs": [],
   "source": [
    "def get_hog_features_on_window(hog_features_from_global_img, window, pixels_per_cell):\n",
    "    '''\n",
    "        Extracts HOG features given as input the HOG features\n",
    "        from the complete image. This way we only need to compute\n",
    "        them once.\n",
    "    '''\n",
    "    # Get block indices for this bounding box\n",
    "    block_idx_x_start = window.x0 // pixels_per_cell \n",
    "    block_idx_y_start = window.y0 // pixels_per_cell\n",
    "\n",
    "    block_idx_x_end = block_idx_x_start + window.size_x // pixels_per_cell - 1\n",
    "    block_idx_y_end = block_idx_y_start + window.size_y // pixels_per_cell - 1\n",
    "\n",
    "    # Extract features\n",
    "    return hog_features_from_global_img[block_idx_y_start : block_idx_y_end,\n",
    "                                        block_idx_x_start : block_idx_x_end]"
   ]
  },
  {
   "cell_type": "code",
   "execution_count": 16,
   "metadata": {},
   "outputs": [
    {
     "name": "stdout",
     "output_type": "stream",
     "text": [
      "(89, 159, 2, 2, 9, 3)\n",
      "(7, 7, 2, 2, 9, 3)\n",
      "(7, 7, 2, 2, 9, 3)\n",
      "Test passed!\n"
     ]
    },
    {
     "data": {
      "image/png": "[encoded data removed]",
      "text/plain": [
       "<matplotlib.figure.Figure at 0x11ef2b518>"
      ]
     },
     "metadata": {},
     "output_type": "display_data"
    }
   ],
   "source": [
    "def test_hog_features_window():\n",
    "    # Read image\n",
    "    img = preprocess_img(read_img('./test_images/test1.jpg'))\n",
    "    img2 = np.copy(img)\n",
    "    \n",
    "    # Define window\n",
    "    x0 = 192\n",
    "    y0 = 448\n",
    "    pixels_per_cell = get_pixels_per_cell()\n",
    "    window = SearchWindow(x0, y0, 64, 64)\n",
    "    \n",
    "    # Get sub-image and compute HOG features\n",
    "    sub_img = window.get_img_contents(img)\n",
    "    features_sub_image, debug1 = get_hog_features(sub_img, debug=True)\n",
    "    \n",
    "    # Compute HOG features in global image, and get features from it\n",
    "    hog_features_whole_image, debug2 = get_hog_features(img2, debug=True)\n",
    "    print(hog_features_whole_image.shape)\n",
    "    features_sub_hog = get_hog_features_on_window(hog_features_whole_image, window, pixels_per_cell=pixels_per_cell)\n",
    "    \n",
    "    # Verify that the vector is exactly the same\n",
    "    print(features_sub_image.shape)\n",
    "    print(features_sub_hog.shape)\n",
    "    \n",
    "    plt.figure()\n",
    "    plt.subplot(1,3,1)\n",
    "    plt.title('HOG on 64x64 image')    \n",
    "    plt.imshow(debug1[:, :, 0])\n",
    "    plt.subplot(1,3,2)\n",
    "    plt.title('HOG on 720x1280 image, take 64x64 window')\n",
    "    plt.imshow(debug2[y0:y0+64,x0:x0+64, 0])\n",
    "        \n",
    "    plt.subplot(1,3,3)\n",
    "    plt.imshow(debug1[:,:,0] - debug2[y0:y0+64,x0:x0+64, 0])\n",
    "    plt.title('Difference')\n",
    "        \n",
    "    assert(features_sub_image.shape == features_sub_hog.shape)\n",
    "   \n",
    "    n_blocks = 64 // pixels_per_cell - 1\n",
    "\n",
    "    for i in range(1, n_blocks - 1):\n",
    "        assert(np.sum(abs(features_sub_image[i, 1]          - features_sub_hog[i, 1])) == 0.)\n",
    "        assert(np.sum(abs(features_sub_image[i, n_blocks-2] - features_sub_hog[i, n_blocks-2])) == 0.)\n",
    "        assert(np.sum(abs(features_sub_image[1, i]          - features_sub_hog[1, i])) == 0.)\n",
    "        assert(np.sum(abs(features_sub_image[n_blocks-2, i] - features_sub_hog[n_blocks-2, i])) == 0.)\n",
    "    \n",
    "    print('Test passed!')\n",
    "    \n",
    "test_hog_features_window()"
   ]
  },
  {
   "cell_type": "code",
   "execution_count": 18,
   "metadata": {},
   "outputs": [],
   "source": [
    "def color_hist_features(img):\n",
    "    nbins = 32\n",
    "    bins_range = (0, 256)\n",
    "    \n",
    "    # Compute the histogram of the color channels separately\n",
    "    channel1_hist = np.histogram(img[:,:,0], bins=nbins, range=bins_range)\n",
    "    channel2_hist = np.histogram(img[:,:,1], bins=nbins, range=bins_range)\n",
    "    channel3_hist = np.histogram(img[:,:,2], bins=nbins, range=bins_range)\n",
    "    \n",
    "    # Concatenate the histograms into a single feature vector\n",
    "    hist_features = np.concatenate((channel1_hist[0], channel2_hist[0], channel3_hist[0]))\n",
    "    \n",
    "    # Return the individual histograms, bin_centers and feature vector\n",
    "    return hist_features"
   ]
  },
  {
   "cell_type": "code",
   "execution_count": 19,
   "metadata": {},
   "outputs": [],
   "source": [
    "def bin_spatial(img):\n",
    "    size = (16, 16)\n",
    "    return cv2.resize(img, size).ravel()"
   ]
  },
  {
   "cell_type": "code",
   "execution_count": 20,
   "metadata": {},
   "outputs": [],
   "source": [
    "def combine_features(bin_spatial_feat, color_hist_feat, hog_feat):\n",
    "    features = []\n",
    "    \n",
    "    features.append(bin_spatial_feat)\n",
    "    features.append(color_hist_feat)\n",
    "    features.append(hog_feat.ravel())\n",
    "    \n",
    "    return np.array(np.concatenate(features))\n",
    "    \n",
    "def get_features(img):\n",
    "    bin_spatial_feat = bin_spatial(img)\n",
    "    color_hist_feat = color_hist_features(img)\n",
    "    hog_feat = get_hog_features(img)\n",
    "    \n",
    "    return combine_features(bin_spatial_feat, color_hist_feat, hog_feat)\n",
    "    \n",
    "def get_features_batch(Img):\n",
    "    features = []\n",
    "    for i in range(Img.shape[0]):\n",
    "        features.append(get_features(Img[i]))\n",
    "    return np.array(features)"
   ]
  },
  {
   "cell_type": "code",
   "execution_count": 21,
   "metadata": {},
   "outputs": [
    {
     "name": "stdout",
     "output_type": "stream",
     "text": [
      "Computing features for the entire dataset...\n",
      "Saving features into features.pickle...\n",
      "Done\n",
      "(17760, 6156)\n"
     ]
    }
   ],
   "source": [
    "features_file = 'features.pickle'\n",
    "\n",
    "if not os.path.exists(features_file):\n",
    "    print('Computing features for the entire dataset...')\n",
    "    X = get_features_batch(Img_pp)\n",
    "    print('Saving features into ' + features_file + '...')\n",
    "    pickle.dump(X, open(features_file, 'wb'))\n",
    "    print('Done')\n",
    "else:\n",
    "    print('Loading features from ' + features_file + '...')\n",
    "    X = pickle.load(open(features_file, 'rb'))\n",
    "    print('Done')\n",
    "    \n",
    "X = X.astype(np.float64)\n",
    "print(X.shape)\n"
   ]
  },
  {
   "cell_type": "code",
   "execution_count": 22,
   "metadata": {},
   "outputs": [],
   "source": [
    "def create_scaler(X):\n",
    "    scaler = StandardScaler().fit(X)\n",
    "    return scaler\n",
    "\n",
    "scaler_ = create_scaler(X)"
   ]
  },
  {
   "cell_type": "code",
   "execution_count": 23,
   "metadata": {},
   "outputs": [
    {
     "name": "stdout",
     "output_type": "stream",
     "text": [
      "Normalizing features...\n",
      "Done\n"
     ]
    }
   ],
   "source": [
    "def normalize_features(X):\n",
    "    return scaler_.transform(X)    \n",
    "\n",
    "print('Normalizing features...')\n",
    "X_norm = normalize_features(X)\n",
    "print('Done')\n"
   ]
  },
  {
   "cell_type": "code",
   "execution_count": 24,
   "metadata": {},
   "outputs": [
    {
     "name": "stdout",
     "output_type": "stream",
     "text": [
      "Splitting into train/validation set...\n",
      "X_train:  (14208, 6156)\n",
      "X_val:  (3552, 6156)\n"
     ]
    }
   ],
   "source": [
    "def split_validation(X, y):\n",
    "    val_ratio = 0.2\n",
    "    random_state = 918273645\n",
    "    return train_test_split(X, y, test_size = val_ratio, random_state = random_state)\n",
    "\n",
    "print('Splitting into train/validation set...')\n",
    "X_train, X_val, y_train, y_val = split_validation(X_norm, y)\n",
    "\n",
    "print('X_train: ', X_train.shape)\n",
    "print('X_val: ', X_val.shape)"
   ]
  },
  {
   "cell_type": "code",
   "execution_count": 25,
   "metadata": {},
   "outputs": [],
   "source": [
    "def define_classifier():\n",
    "    kernel='rbf'\n",
    "    #classifier = SVC(kernel=kernel)\n",
    "    classifier = LinearSVC(C = 0.001) \n",
    "    return classifier"
   ]
  },
  {
   "cell_type": "code",
   "execution_count": 26,
   "metadata": {},
   "outputs": [
    {
     "name": "stdout",
     "output_type": "stream",
     "text": [
      "Training classifier...\n",
      "Done in 18.091 s\n"
     ]
    }
   ],
   "source": [
    "def train_classifier(classifier, X_train, y_train):\n",
    "    classifier.fit(X_train, y_train)\n",
    "def save_classifier(classifier, path):\n",
    "    joblib.dump(classifier, path)\n",
    "def load_classifier(path):\n",
    "    return joblib.load(path)\n",
    "if not os.path.exists(get_classifier_path()):\n",
    "    # Create classifier\n",
    "    classifier_ = define_classifier()\n",
    "    \n",
    "    # Train it\n",
    "    print('Training classifier...')\n",
    "    t = time.time()\n",
    "    train_classifier(classifier_, X_train, y_train)\n",
    "    print('Done in %.3f s' % (time.time() - t))\n",
    "    \n",
    "    # Save to disk for the future\n",
    "    save_classifier(classifier_, get_classifier_path())\n",
    "else:\n",
    "    print('Loading classifier...')\n",
    "    classifier_ = load_classifier(get_classifier_path())\n",
    "    print('Done')"
   ]
  },
  {
   "cell_type": "code",
   "execution_count": 27,
   "metadata": {},
   "outputs": [
    {
     "name": "stdout",
     "output_type": "stream",
     "text": [
      "Validation accuracy: 99.437%\n"
     ]
    }
   ],
   "source": [
    "def compute_validation_accuracy(classifier, X_val, y_val):\n",
    "    return classifier.score(X_val, y_val)\n",
    "    \n",
    "print('Validation accuracy: %.3f%%' % (100. * compute_validation_accuracy(classifier_, X_val, y_val)))"
   ]
  },
  {
   "cell_type": "code",
   "execution_count": 28,
   "metadata": {},
   "outputs": [],
   "source": [
    "def predict(x):\n",
    "    v = classifier_.decision_function(x)\n",
    "    v_threshold = 0.1\n",
    "    \n",
    "    if v > v_threshold:\n",
    "        return get_vehicle_label()\n",
    "    else:\n",
    "        return get_non_vehicle_label()"
   ]
  },
  {
   "cell_type": "code",
   "execution_count": 29,
   "metadata": {},
   "outputs": [],
   "source": [
    "def classify_img(img):\n",
    "    # Preprocess\n",
    "    img = preprocess_img(img)\n",
    "    \n",
    "    # Extract and normalize features\n",
    "    x = get_features(img)\n",
    "    x = normalize_features(x)\n",
    "    \n",
    "    # Predict\n",
    "    return predict(x)"
   ]
  },
  {
   "cell_type": "code",
   "execution_count": 30,
   "metadata": {},
   "outputs": [
    {
     "ename": "ValueError",
     "evalue": "Expected 2D array, got 1D array instead:\narray=[7.90000000e+01 1.28000000e+02 1.26000000e+02 ... 3.19036265e-03\n 4.14879384e-02 2.93629386e-02].\nReshape your data either using array.reshape(-1, 1) if your data has a single feature or array.reshape(1, -1) if it contains a single sample.",
     "output_type": "error",
     "traceback": [
      "\u001b[0;31m---------------------------------------------------------------------------\u001b[0m",
      "\u001b[0;31mValueError\u001b[0m                                Traceback (most recent call last)",
      "\u001b[0;32m<ipython-input-30-ed74b0c90575>\u001b[0m in \u001b[0;36m<module>\u001b[0;34m()\u001b[0m\n\u001b[1;32m      1\u001b[0m \u001b[0mimg_v_test\u001b[0m \u001b[0;34m=\u001b[0m \u001b[0mImg_v\u001b[0m\u001b[0;34m[\u001b[0m\u001b[0;36m0\u001b[0m\u001b[0;34m]\u001b[0m\u001b[0;34m\u001b[0m\u001b[0m\n\u001b[1;32m      2\u001b[0m \u001b[0mt\u001b[0m \u001b[0;34m=\u001b[0m \u001b[0mtime\u001b[0m\u001b[0;34m.\u001b[0m\u001b[0mtime\u001b[0m\u001b[0;34m(\u001b[0m\u001b[0;34m)\u001b[0m\u001b[0;34m\u001b[0m\u001b[0m\n\u001b[0;32m----> 3\u001b[0;31m \u001b[0my_v_predicted\u001b[0m \u001b[0;34m=\u001b[0m \u001b[0mclassify_img\u001b[0m\u001b[0;34m(\u001b[0m\u001b[0mimg_v_test\u001b[0m\u001b[0;34m)\u001b[0m\u001b[0;34m\u001b[0m\u001b[0m\n\u001b[0m\u001b[1;32m      4\u001b[0m \u001b[0mprint\u001b[0m\u001b[0;34m(\u001b[0m\u001b[0;34m'Time for classifying single 64x64 image: %.3f s'\u001b[0m \u001b[0;34m%\u001b[0m \u001b[0;34m(\u001b[0m\u001b[0mtime\u001b[0m\u001b[0;34m.\u001b[0m\u001b[0mtime\u001b[0m\u001b[0;34m(\u001b[0m\u001b[0;34m)\u001b[0m \u001b[0;34m-\u001b[0m \u001b[0mt\u001b[0m\u001b[0;34m)\u001b[0m\u001b[0;34m)\u001b[0m\u001b[0;34m\u001b[0m\u001b[0m\n\u001b[1;32m      5\u001b[0m \u001b[0;34m\u001b[0m\u001b[0m\n",
      "\u001b[0;32m<ipython-input-29-a70c7c8f8c49>\u001b[0m in \u001b[0;36mclassify_img\u001b[0;34m(img)\u001b[0m\n\u001b[1;32m      5\u001b[0m     \u001b[0;31m# Extract and normalize features\u001b[0m\u001b[0;34m\u001b[0m\u001b[0;34m\u001b[0m\u001b[0m\n\u001b[1;32m      6\u001b[0m     \u001b[0mx\u001b[0m \u001b[0;34m=\u001b[0m \u001b[0mget_features\u001b[0m\u001b[0;34m(\u001b[0m\u001b[0mimg\u001b[0m\u001b[0;34m)\u001b[0m\u001b[0;34m\u001b[0m\u001b[0m\n\u001b[0;32m----> 7\u001b[0;31m     \u001b[0mx\u001b[0m \u001b[0;34m=\u001b[0m \u001b[0mnormalize_features\u001b[0m\u001b[0;34m(\u001b[0m\u001b[0mx\u001b[0m\u001b[0;34m)\u001b[0m\u001b[0;34m\u001b[0m\u001b[0m\n\u001b[0m\u001b[1;32m      8\u001b[0m \u001b[0;34m\u001b[0m\u001b[0m\n\u001b[1;32m      9\u001b[0m     \u001b[0;31m# Predict\u001b[0m\u001b[0;34m\u001b[0m\u001b[0;34m\u001b[0m\u001b[0m\n",
      "\u001b[0;32m<ipython-input-23-f3467455ad20>\u001b[0m in \u001b[0;36mnormalize_features\u001b[0;34m(X)\u001b[0m\n\u001b[1;32m      1\u001b[0m \u001b[0;32mdef\u001b[0m \u001b[0mnormalize_features\u001b[0m\u001b[0;34m(\u001b[0m\u001b[0mX\u001b[0m\u001b[0;34m)\u001b[0m\u001b[0;34m:\u001b[0m\u001b[0;34m\u001b[0m\u001b[0m\n\u001b[0;32m----> 2\u001b[0;31m     \u001b[0;32mreturn\u001b[0m \u001b[0mscaler_\u001b[0m\u001b[0;34m.\u001b[0m\u001b[0mtransform\u001b[0m\u001b[0;34m(\u001b[0m\u001b[0mX\u001b[0m\u001b[0;34m)\u001b[0m\u001b[0;34m\u001b[0m\u001b[0m\n\u001b[0m\u001b[1;32m      3\u001b[0m \u001b[0;34m\u001b[0m\u001b[0m\n\u001b[1;32m      4\u001b[0m \u001b[0mprint\u001b[0m\u001b[0;34m(\u001b[0m\u001b[0;34m'Normalizing features...'\u001b[0m\u001b[0;34m)\u001b[0m\u001b[0;34m\u001b[0m\u001b[0m\n\u001b[1;32m      5\u001b[0m \u001b[0mX_norm\u001b[0m \u001b[0;34m=\u001b[0m \u001b[0mnormalize_features\u001b[0m\u001b[0;34m(\u001b[0m\u001b[0mX\u001b[0m\u001b[0;34m)\u001b[0m\u001b[0;34m\u001b[0m\u001b[0m\n",
      "\u001b[0;32m~/anaconda/envs/carnd-term1/lib/python3.5/site-packages/sklearn/preprocessing/data.py\u001b[0m in \u001b[0;36mtransform\u001b[0;34m(self, X, y, copy)\u001b[0m\n\u001b[1;32m    679\u001b[0m         \u001b[0mcopy\u001b[0m \u001b[0;34m=\u001b[0m \u001b[0mcopy\u001b[0m \u001b[0;32mif\u001b[0m \u001b[0mcopy\u001b[0m \u001b[0;32mis\u001b[0m \u001b[0;32mnot\u001b[0m \u001b[0;32mNone\u001b[0m \u001b[0;32melse\u001b[0m \u001b[0mself\u001b[0m\u001b[0;34m.\u001b[0m\u001b[0mcopy\u001b[0m\u001b[0;34m\u001b[0m\u001b[0m\n\u001b[1;32m    680\u001b[0m         X = check_array(X, accept_sparse='csr', copy=copy, warn_on_dtype=True,\n\u001b[0;32m--> 681\u001b[0;31m                         estimator=self, dtype=FLOAT_DTYPES)\n\u001b[0m\u001b[1;32m    682\u001b[0m \u001b[0;34m\u001b[0m\u001b[0m\n\u001b[1;32m    683\u001b[0m         \u001b[0;32mif\u001b[0m \u001b[0msparse\u001b[0m\u001b[0;34m.\u001b[0m\u001b[0missparse\u001b[0m\u001b[0;34m(\u001b[0m\u001b[0mX\u001b[0m\u001b[0;34m)\u001b[0m\u001b[0;34m:\u001b[0m\u001b[0;34m\u001b[0m\u001b[0m\n",
      "\u001b[0;32m~/anaconda/envs/carnd-term1/lib/python3.5/site-packages/sklearn/utils/validation.py\u001b[0m in \u001b[0;36mcheck_array\u001b[0;34m(array, accept_sparse, dtype, order, copy, force_all_finite, ensure_2d, allow_nd, ensure_min_samples, ensure_min_features, warn_on_dtype, estimator)\u001b[0m\n\u001b[1;32m    439\u001b[0m                     \u001b[0;34m\"Reshape your data either using array.reshape(-1, 1) if \"\u001b[0m\u001b[0;34m\u001b[0m\u001b[0m\n\u001b[1;32m    440\u001b[0m                     \u001b[0;34m\"your data has a single feature or array.reshape(1, -1) \"\u001b[0m\u001b[0;34m\u001b[0m\u001b[0m\n\u001b[0;32m--> 441\u001b[0;31m                     \"if it contains a single sample.\".format(array))\n\u001b[0m\u001b[1;32m    442\u001b[0m             \u001b[0marray\u001b[0m \u001b[0;34m=\u001b[0m \u001b[0mnp\u001b[0m\u001b[0;34m.\u001b[0m\u001b[0matleast_2d\u001b[0m\u001b[0;34m(\u001b[0m\u001b[0marray\u001b[0m\u001b[0;34m)\u001b[0m\u001b[0;34m\u001b[0m\u001b[0m\n\u001b[1;32m    443\u001b[0m             \u001b[0;31m# To ensure that array flags are maintained\u001b[0m\u001b[0;34m\u001b[0m\u001b[0;34m\u001b[0m\u001b[0m\n",
      "\u001b[0;31mValueError\u001b[0m: Expected 2D array, got 1D array instead:\narray=[7.90000000e+01 1.28000000e+02 1.26000000e+02 ... 3.19036265e-03\n 4.14879384e-02 2.93629386e-02].\nReshape your data either using array.reshape(-1, 1) if your data has a single feature or array.reshape(1, -1) if it contains a single sample."
     ]
    }
   ],
   "source": [
    "img_v_test = Img_v[0]\n",
    "t = time.time()\n",
    "y_v_predicted = classify_img(img_v_test)\n",
    "print('Time for classifying single 64x64 image: %.3f s' % (time.time() - t))\n",
    "\n",
    "img_nv_test = Img_nv[0]\n",
    "y_nv_predicted = classify_img(img_nv_test)\n",
    "\n",
    "h = plt.figure();\n",
    "plt.subplot(1,2,1);\n",
    "display_img(img_v_test, 'Prediction: %d (True: %d)' % (y_v_predicted, get_vehicle_label()))\n",
    "plt.subplot(1,2,2);\n",
    "display_img(img_nv_test, 'Prediction: %d (True: %d)' % (y_nv_predicted, get_non_vehicle_label()))\n",
    "\n",
    "save_plt_img(h, 'svm_test')"
   ]
  },
  {
   "cell_type": "code",
   "execution_count": null,
   "metadata": {},
   "outputs": [],
   "source": [
    "def get_search_windows(img_shape):\n",
    "    # Parameters\n",
    "    x_start = 0\n",
    "    y_start = img_shape[0] // 2\n",
    "    x_end = img_shape[1]\n",
    "    y_end = img_shape[0]\n",
    "    \n",
    "    size = 64\n",
    "    overlap = 0.75    \n",
    "\n",
    "    # Search windows\n",
    "    bboxes_out = []\n",
    "    step = int((1.0 - overlap) * size) \n",
    "\n",
    "    for y in range(y_start, y_end - size, step):\n",
    "        for x in range(x_start, x_end - size, step):                \n",
    "            box = SearchWindow(x, y, size, size)\n",
    "            bboxes_out.append(box)\n",
    "        \n",
    "    return bboxes_out"
   ]
  },
  {
   "cell_type": "code",
   "execution_count": null,
   "metadata": {},
   "outputs": [],
   "source": [
    "def draw_search_windows(img, windows, color, thickness):\n",
    "    for w in windows:\n",
    "        w.draw_on_img(img, color, thickness)"
   ]
  },
  {
   "cell_type": "code",
   "execution_count": null,
   "metadata": {},
   "outputs": [],
   "source": [
    "def test_bboxes():\n",
    "    img = read_img('./test_images/test1.jpg')\n",
    "    bboxes = get_search_windows(img.shape)\n",
    "    print('Obtained %d boxes' % len(bboxes))\n",
    "    draw_search_windows(img, bboxes, color=(255,0,0), thickness=2)\n",
    "    plt.imshow(img)\n",
    "    save_cv_img(fname= 'search_boxes', img=img)\n",
    "    \n",
    "test_bboxes()"
   ]
  }
 ],
 "metadata": {
  "kernelspec": {
   "display_name": "Python 3",
   "language": "python",
   "name": "python3"
  },
  "language_info": {
   "codemirror_mode": {
    "name": "ipython",
    "version": 3
   },
   "file_extension": ".py",
   "mimetype": "text/x-python",
   "name": "python",
   "nbconvert_exporter": "python",
   "pygments_lexer": "ipython3",
   "version": "3.5.2"
  },
  "widgets": {
   "state": {},
   "version": "1.1.2"
  }
 },
 "nbformat": 4,
 "nbformat_minor": 2
}
